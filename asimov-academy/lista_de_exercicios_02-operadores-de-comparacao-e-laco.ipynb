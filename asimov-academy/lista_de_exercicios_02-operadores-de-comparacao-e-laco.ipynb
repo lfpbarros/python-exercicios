{
 "cells": [
  {
   "cell_type": "markdown",
   "metadata": {},
   "source": [
    "<img src=\"https://asimov.academy/wp-content/uploads/2021/01/logo.png\" width=\"200\"/>\n",
    "_____________________________________________\n",
    "\n",
    "## Exercícios #2 - Operadores de comparação e laços\n"
   ]
  },
  {
   "cell_type": "markdown",
   "metadata": {},
   "source": [
    "### Exercício 1\n",
    "Faça um programa para a leitura de duas notas parciais de um aluno. O programa deve calcular a média alcançada por aluno e apresentar:\n",
    "- A mensagem \"Aprovado\", se a média alcançada for maior ou igual a 7;\n",
    "- A mensagem \"Reprovado\", se a média for menor do que 7;\n",
    "- A mensagem \"Aprovado com Distinção\", se a média for igual a 10."
   ]
  },
  {
   "cell_type": "code",
   "execution_count": 15,
   "metadata": {},
   "outputs": [
    {
     "name": "stdout",
     "output_type": "stream",
     "text": [
      "A média do aluno(a) é de 7.0\n",
      "Aprovado\n"
     ]
    }
   ],
   "source": [
    "n1 = float(input('Primeira nota parcial: '))\n",
    "n2 = float(input('Segunda nota parcial: '))\n",
    "\n",
    "media = (n1 + n2) / 2\n",
    "\n",
    "print(f'A média do aluno(a) é de {media:.2f}')\n",
    "\n",
    "if media < 7:\n",
    "    print('Reprovado')\n",
    "elif media >= 7 and media < 10:\n",
    "    print('Aprovado')\n",
    "elif media == 10:\n",
    "    print('Parabéns! Aprovado com distinção')\n"
   ]
  },
  {
   "cell_type": "markdown",
   "metadata": {},
   "source": [
    "### Exercício 2\n",
    "Escreva um script que leia três números e mostre o maior e o menor deles."
   ]
  },
  {
   "cell_type": "code",
   "execution_count": 7,
   "metadata": {},
   "outputs": [
    {
     "name": "stdout",
     "output_type": "stream",
     "text": [
      "O menor número é 1 e o maior número é 10.\n"
     ]
    }
   ],
   "source": [
    "n1 = int(input('Insira o primeiro número: '))\n",
    "n2 = int(input('Insira o segundo número: '))\n",
    "n3 = int(input('Insira o terceiro número: '))\n",
    "\n",
    "if n1 < n2 and n1 < n3:\n",
    "    menor = n1\n",
    "elif n2 < n1 and n2 < n3:\n",
    "    menor = n2\n",
    "else:\n",
    "    menor = n3\n",
    "\n",
    "if n1 > n2 and n1 > n3:\n",
    "    maior = n1\n",
    "elif n2 > n1 and n2 > n3:\n",
    "    maior = n2\n",
    "else:\n",
    "    maior = n3\n",
    "\n",
    "print(f'O menor número é {menor} e o maior número é {maior}.')"
   ]
  },
  {
   "cell_type": "code",
   "execution_count": 16,
   "metadata": {},
   "outputs": [
    {
     "name": "stdout",
     "output_type": "stream",
     "text": [
      "O maior número é 15\n",
      "O menor número é 6\n"
     ]
    }
   ],
   "source": [
    "# Outra forma de resolver:\n",
    "\n",
    "lista = []\n",
    "\n",
    "for i in range(3):\n",
    "    x = int(input(f'Insira o {i + 1}º número: '))\n",
    "    lista.append(x)\n",
    "\n",
    "lista.sort()\n",
    "print(f'O maior número é {lista[-1]}')\n",
    "print(f'O menor número é {lista[0]}')"
   ]
  },
  {
   "cell_type": "markdown",
   "metadata": {},
   "source": [
    "### Exercício 3 \n",
    "Nome na vertical em escada. \n",
    "\n",
    "F<br>\n",
    "FU<br>\n",
    "FUL<br>\n",
    "FULA<br>\n",
    "FULAN<br>\n",
    "FULANO<br>"
   ]
  },
  {
   "cell_type": "code",
   "execution_count": 11,
   "metadata": {},
   "outputs": [
    {
     "name": "stdout",
     "output_type": "stream",
     "text": [
      "J\n",
      "JO\n",
      "JOÃ\n",
      "JOÃO\n"
     ]
    }
   ],
   "source": [
    "nome = str(input('Insira o nome: ')).upper()\n",
    "\n",
    "escada = ''\n",
    "\n",
    "for l in nome:\n",
    "    escada = escada + l\n",
    "    print(escada)"
   ]
  },
  {
   "cell_type": "code",
   "execution_count": 17,
   "metadata": {},
   "outputs": [
    {
     "name": "stdout",
     "output_type": "stream",
     "text": [
      "\n",
      "E\n",
      "El\n",
      "Ela\n",
      "Elan\n",
      "Elano\n"
     ]
    }
   ],
   "source": [
    "# Outra forma de fazer:\n",
    "\n",
    "nome = str(input('Qual é o seu nome? '))\n",
    "\n",
    "for i in range(len(nome) + 1):\n",
    "    print(nome[:i])"
   ]
  },
  {
   "cell_type": "markdown",
   "metadata": {},
   "source": [
    "### Exercício 4\n",
    "A série de Fibonacci é formada pela seqüência 1,1,2,3,5,8,13,21,34,55,... (o próximo termo, a partir do terceiro, é sempre gerado a partir do somatório dos últimos dois). Faça um programa capaz de gerar a série até o n−ésimo termo (onde o valor n deve ser inserido pelo usuário)."
   ]
  },
  {
   "cell_type": "code",
   "execution_count": 5,
   "metadata": {},
   "outputs": [
    {
     "name": "stdout",
     "output_type": "stream",
     "text": [
      "A sequência fibonacci de 10 elementos é [1, 1, 2, 3, 5, 8, 13, 21, 34, 55]\n"
     ]
    }
   ],
   "source": [
    "fibonacci = []\n",
    "\n",
    "n = int(input('Quantos valores da sequência fibonacci você deseja? '))\n",
    "\n",
    "contador = 0\n",
    "n1 = 1\n",
    "fibonacci.append(n1)\n",
    "contador += 1\n",
    "if n == 1:\n",
    "    print(f'A sequência fibonacci pedida é {fibonacci}')\n",
    "n2 = 1\n",
    "fibonacci.append(n2)\n",
    "contador += 1\n",
    "if n == 2:\n",
    "    print(f'A sequência fibonacci pedida é {fibonacci}')\n",
    "if n > contador:\n",
    "    while n != contador:\n",
    "        n1 += n2\n",
    "        fibonacci.append(n1)\n",
    "        contador += 1\n",
    "        if n == contador:\n",
    "            break\n",
    "        n2 += n1\n",
    "        fibonacci.append(n2)\n",
    "        contador += 1\n",
    "\n",
    "    print(f'A sequência fibonacci de {n} elementos é {fibonacci}')"
   ]
  },
  {
   "cell_type": "markdown",
   "metadata": {},
   "source": [
    "### Exercício 5\n",
    "Faça um programa que leia e valide as seguintes informações:\n",
    "- Nome: maior que 3 caracteres;\n",
    "- Idade: entre 0 e 150;\n",
    "- Salário: maior que zero;\n",
    "- Sexo: 'f' ou 'm';\n",
    "- Estado Civil: 's', 'c', 'v', 'd';"
   ]
  },
  {
   "cell_type": "code",
   "execution_count": 3,
   "metadata": {},
   "outputs": [],
   "source": [
    "nome = ''\n",
    "idade = -1\n",
    "salario = 0\n",
    "sexo = ''\n",
    "estado_civil = ''\n",
    "while len(nome) < 3:\n",
    "    nome = str(input('Insira o seu nome: ')).strip()\n",
    "while idade < 0 or idade > 150:\n",
    "    idade = int(input('Insira a sua idade: '))\n",
    "while salario <= 0:\n",
    "    salario = float(input('Insira o seu salário: R$'))\n",
    "while sexo not in ['f', 'm']:\n",
    "    sexo = str(input('Insira o seu sexo: (F/M) ')).strip().lower()[0]\n",
    "while estado_civil not in ['s', 'c', 'v', 'd']:\n",
    "    estado_civil = str(input('Insira o seu estado civil: (S/C/V/D) ')).strip().lower()[0]\n",
    "\n"
   ]
  },
  {
   "cell_type": "code",
   "execution_count": 19,
   "metadata": {},
   "outputs": [
    {
     "name": "stdout",
     "output_type": "stream",
     "text": [
      "O nome deve ter mais de 3 caracteres.\n",
      "A idade deve ser entre 0 e 150\n",
      "O salário deve ser maior que zero.\n",
      "O sexo deve ser m ou f\n",
      "O sexo deve ser m ou f\n",
      "O estado civil deve ser s, c, v ou d.\n"
     ]
    }
   ],
   "source": [
    "# Outra forma de fazer, mais elegante:\n",
    "\n",
    "nome = str(input('Insira o nome: ')).strip()\n",
    "while len(nome) < 3:\n",
    "    print('O nome deve ter mais de 3 caracteres.')\n",
    "    nome = str(input('Insira o nome: ')).strip()\n",
    "\n",
    "idade = int(input('Insira a idade: '))\n",
    "while idade < 0 or idade > 150:\n",
    "    print('A idade deve ser entre 0 e 150')\n",
    "    idade = int(input('Insira a idade: '))\n",
    "\n",
    "salario = float(input('Insira o salário: R$'))\n",
    "while salario <= 0:\n",
    "    print('O salário deve ser maior que zero.')\n",
    "    salario = float(input('Insira o salário: R$'))\n",
    "\n",
    "sexo = str(input('Insira o sexo: (F/M) ')).strip().lower()[0]\n",
    "while sexo not in ['f', 'm']:\n",
    "    print('O sexo deve ser m ou f')\n",
    "    sexo = str(input('Insira o sexo: (F/M) ')).strip().lower()[0]\n",
    "\n",
    "estado_civil = str(input('Insira o estado civil: (S/C/V/D) ')).strip().lower()[0]\n",
    "while estado_civil not in ['s', 'c', 'v', 'd']:\n",
    "    print('O estado civil deve ser s, c, v ou d.')\n",
    "    estado_civil = str(input('Insira o estado civil: (S/C/V/D) ')).strip().lower()[0]\n"
   ]
  },
  {
   "cell_type": "markdown",
   "metadata": {},
   "source": [
    "### Exercício 6\n",
    "Faça um programa que peça um número inteiro e determine se ele é ou não um número primo. Um número primo é aquele que é divisível somente por ele mesmo e por 1. \n",
    "Dica: Utilize o operador aritmético `%`, que retorna o resto da divisão de dois números."
   ]
  },
  {
   "cell_type": "code",
   "execution_count": 14,
   "metadata": {},
   "outputs": [
    {
     "name": "stdout",
     "output_type": "stream",
     "text": [
      "O número 101 é primo\n"
     ]
    }
   ],
   "source": [
    "n = int(input('Insira um número para saber se ele é primo: '))\n",
    "contador = 0\n",
    "\n",
    "for i in range(1, (n + 1)):\n",
    "    if n % i == 0:\n",
    "        contador += 1\n",
    "\n",
    "if contador == 2:\n",
    "    print(f'O número {n} é primo')\n",
    "else:\n",
    "    print(f'O número {n} não é primo')\n",
    "\n"
   ]
  }
 ],
 "metadata": {
  "kernelspec": {
   "display_name": "Python 3.9.12 ('base')",
   "language": "python",
   "name": "python3"
  },
  "language_info": {
   "codemirror_mode": {
    "name": "ipython",
    "version": 3
   },
   "file_extension": ".py",
   "mimetype": "text/x-python",
   "name": "python",
   "nbconvert_exporter": "python",
   "pygments_lexer": "ipython3",
   "version": "3.9.12"
  },
  "vscode": {
   "interpreter": {
    "hash": "b8939ae6302d706547273c597dd3be7d36d3b4c2b9aa367c9a420125c13753bf"
   }
  }
 },
 "nbformat": 4,
 "nbformat_minor": 4
}
