{
 "cells": [
  {
   "cell_type": "markdown",
   "metadata": {},
   "source": [
    "<img src=\"https://asimov.academy/wp-content/uploads/2021/01/logo.png\" width=\"200\"/>\n",
    "_____________________________________________\n",
    "\n",
    "## Exercícios #1 - Estruturas de dados\n"
   ]
  },
  {
   "cell_type": "markdown",
   "metadata": {},
   "source": [
    "### Exercício 1\n",
    "Utilizando o built-in method input(), crie um programa que receba a altura e o peso de uma pessoa e imprima na tela o IMC da mesma."
   ]
  },
  {
   "cell_type": "code",
   "execution_count": 1,
   "metadata": {},
   "outputs": [
    {
     "name": "stdout",
     "output_type": "stream",
     "text": [
      "O seu IMC é 25.22\n"
     ]
    }
   ],
   "source": [
    "altura = float(input('Insira a sua altura em metros: '))\n",
    "peso = float(input('Insira o seu peso em kg: '))\n",
    "\n",
    "imc = peso / (altura ** 2)\n",
    "\n",
    "print(f'O seu IMC é {imc:.2f}')"
   ]
  },
  {
   "cell_type": "markdown",
   "metadata": {},
   "source": [
    "### Exercício 2 \n",
    "Escreva um programa que pergunte o nome completo do usuário e cumprimente o mesmo pelo primeiro nome."
   ]
  },
  {
   "cell_type": "code",
   "execution_count": 4,
   "metadata": {},
   "outputs": [
    {
     "name": "stdout",
     "output_type": "stream",
     "text": [
      "Muito prazer em te conhecer, Eduardo!\n"
     ]
    }
   ],
   "source": [
    "nome_completo = str(input('Insira o seu nome completo: ')).strip()\n",
    "nome = nome_completo.split()\n",
    "\n",
    "print(f'Muito prazer em te conhecer, {nome[0]}!')"
   ]
  },
  {
   "cell_type": "markdown",
   "metadata": {},
   "source": [
    "### Exercício 3\n",
    "Desenhe um código que extraia o domínio de um e-mail informado."
   ]
  },
  {
   "cell_type": "code",
   "execution_count": 7,
   "metadata": {},
   "outputs": [
    {
     "name": "stdout",
     "output_type": "stream",
     "text": [
      "O domínio do email informado é gmail\n"
     ]
    }
   ],
   "source": [
    "email = str(input('Insira o seu email: ')).strip()\n",
    "final_email = email.split('@')\n",
    "\n",
    "dominio = final_email[1].split('.')\n",
    "\n",
    "print(f'O domínio do email informado é {dominio[0]}')"
   ]
  },
  {
   "cell_type": "markdown",
   "metadata": {},
   "source": [
    "### Exercício 4 \n",
    "Faça um programa para uma loja de tintas. A pessoa informa a área em m² que deseja pintar, e o script calculará a quantidade de latas de tinta que a pessoa deve comprar e o valor. Considere que cada litro de tinta pinta 3m², que cada lata contém 18L e que custa R$ 80."
   ]
  },
  {
   "cell_type": "code",
   "execution_count": 4,
   "metadata": {},
   "outputs": [
    {
     "name": "stdout",
     "output_type": "stream",
     "text": [
      "Para pintar a area de 15.0, você vai precisar de 1 latas de tinta e isso vai custar R$80.00\n"
     ]
    }
   ],
   "source": [
    "from math import ceil\n",
    "\n",
    "# Utilizarei a função ceil da biblioteca math porque não dá para comprar meia lata de tinta. Assim, essa função sempre arredonda para cima para que o valor de compra esteja correto.\n",
    "\n",
    "area = float(input('Informe a área que deseja pintar: '))\n",
    "\n",
    "litros = area / 3\n",
    "\n",
    "latas = ceil(litros / 18)\n",
    "\n",
    "custo_total = latas * 80\n",
    "\n",
    "print(f'Para pintar a area de {area}, você vai precisar de {latas} latas de tinta e isso vai custar R${custo_total:.2f}')"
   ]
  },
  {
   "cell_type": "markdown",
   "metadata": {},
   "source": [
    "### Exercício 5\n",
    "Faça um Programa que pergunte quanto você ganha por hora e o número de horas trabalhadas no mês. Calcule e mostre o total do seu salário no referido mês, sabendo-se que são descontados 11% para o Imposto de Renda, 8% para o INSS e 5% para o sindicato, faça um programa que nos dê:\n",
    "1. Salário bruto.\n",
    "2. Quanto pagou ao INSS.\n",
    "3. Quanto pagou ao sindicato.\n",
    "4. O salário líquido."
   ]
  },
  {
   "cell_type": "code",
   "execution_count": 3,
   "metadata": {},
   "outputs": [
    {
     "name": "stdout",
     "output_type": "stream",
     "text": [
      "\n",
      "Salário bruto: R$3200.00\n",
      "INSS: R$227.84\n",
      "Sindicato: R$131.01\n",
      "Salário líquido: R$2489.15\n"
     ]
    }
   ],
   "source": [
    "valor_hora = float(input('Quanto você ganha por hora? '))\n",
    "horas_mes = int(input('Quantas horas você trabalha por mês? '))\n",
    "\n",
    "bruto = valor_hora * horas_mes\n",
    "imposto_de_renda = bruto * 11/100\n",
    "inss = (bruto - imposto_de_renda) * 8/100\n",
    "sindicato = (bruto - (imposto_de_renda + inss)) * 5/100\n",
    "\n",
    "salario_liquido = bruto - (imposto_de_renda + inss + sindicato)\n",
    "\n",
    "print(f'''\n",
    "Salário bruto: R${bruto:.2f}\n",
    "INSS: R${inss:.2f}\n",
    "Sindicato: R${sindicato:.2f}\n",
    "Salário líquido: R${salario_liquido:.2f}''')"
   ]
  }
 ],
 "metadata": {
  "kernelspec": {
   "display_name": "Python 3.9.12 ('base')",
   "language": "python",
   "name": "python3"
  },
  "language_info": {
   "codemirror_mode": {
    "name": "ipython",
    "version": 3
   },
   "file_extension": ".py",
   "mimetype": "text/x-python",
   "name": "python",
   "nbconvert_exporter": "python",
   "pygments_lexer": "ipython3",
   "version": "3.9.12"
  },
  "vscode": {
   "interpreter": {
    "hash": "b8939ae6302d706547273c597dd3be7d36d3b4c2b9aa367c9a420125c13753bf"
   }
  }
 },
 "nbformat": 4,
 "nbformat_minor": 4
}
